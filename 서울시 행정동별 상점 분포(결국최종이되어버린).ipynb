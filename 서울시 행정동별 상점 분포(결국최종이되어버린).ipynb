{
 "cells": [
  {
   "cell_type": "code",
   "execution_count": 1,
   "id": "db90b37d-6869-4a98-b860-be51bb96c5db",
   "metadata": {},
   "outputs": [],
   "source": [
    "import geopandas as gpd\n",
    "import pandas as pd\n",
    "import pydeck as pdk\n",
    "import numpy as np\n",
    "import seaborn as sns\n",
    "import matplotlib.pyplot as plt\n",
    "from matplotlib import font_manager, rc\n",
    "import sys"
   ]
  },
  {
   "cell_type": "code",
   "execution_count": 2,
   "id": "0c5df1eb",
   "metadata": {},
   "outputs": [],
   "source": [
    "def set_hangul(font_path = \"C:/Windows/Fonts/malgun.TTF\"):\n",
    "    '''\n",
    "    seaborn, matplotlib, pandas로 시각화 할 때 한글출력 설정\n",
    "    # 필수 import 라이브러리)\n",
    "    @ seaborn\n",
    "    @ matplotlib.pyplot\n",
    "    @ font_manager, rc\n",
    "    \n",
    "    # parameter)\n",
    "    @ font_path : 사용할 폰트의 경로\n",
    "    '''    \n",
    "    \n",
    "    sns.set_theme(style=\"whitegrid\") # seaborn 스타일 설정\n",
    "    \n",
    "    plt.rcParams['font.family'] = 'NanumGothic'\n",
    "    sns.set(font='NanumGothic',\n",
    "            rc={'axes.unicode_minus':False},\n",
    "            style='darkgrid')\n",
    "    \n",
    "    # pandas plot 한글폰트\n",
    "    font = font_manager.FontProperties(fname=font_path).get_name()\n",
    "    rc('font', family=font)"
   ]
  },
  {
   "cell_type": "code",
   "execution_count": 3,
   "id": "5543de25-8650-4e0f-b17b-c6577447203e",
   "metadata": {},
   "outputs": [],
   "source": [
    "def coord_lister(geom):\n",
    "    '''\n",
    "    geometry 정보를 pydeck 형식인 coordinate list로 풀어주는 함수\n",
    "    '''\n",
    "    coords = list(geom.exterior.coords)\n",
    "    return (coords)"
   ]
  },
  {
   "cell_type": "code",
   "execution_count": 4,
   "id": "3340ac7a",
   "metadata": {},
   "outputs": [],
   "source": [
    "def get_seoul_shpfile():\n",
    "    root = gpd.read_file('./Data/Z_SOP_BND_ADM_DONG_PG.shp', encoding = 'cp949')\n",
    "    \n",
    "    root = root.set_crs(epsg = '5181').to_crs(epsg = '4326') # UTM-K 좌표계(X, Y)에서 WGS84 좌표계(lon, lat)으로 변경\n",
    "    \n",
    "    seoul = root.loc[root.ADM_DR_CD.str.startswith('11')] # 서울만 가져옴\n",
    "    \n",
    "    return seoul"
   ]
  },
  {
   "cell_type": "code",
   "execution_count": 5,
   "id": "798f1fc0",
   "metadata": {},
   "outputs": [],
   "source": [
    "def get_market_geo():\n",
    "    market = pd.read_csv('./Data/소상공인시장진흥공단_상가(상권)정보_서울_202106.csv',\n",
    "                     usecols = ['상가업소번호', '상호명', '지점명', '상권업종대분류명', '상권업종중분류명', '상권업종소분류명', '경도', '위도'])\n",
    "    \n",
    "    market = gpd.GeoDataFrame(market, geometry=gpd.points_from_xy(market['경도'], market['위도']), crs = 'EPSG:4326') #geoDF 형식으로 변환\n",
    "    \n",
    "    return market"
   ]
  },
  {
   "cell_type": "code",
   "execution_count": 6,
   "id": "8cf57a2b",
   "metadata": {},
   "outputs": [],
   "source": [
    "def get_mapping_code():\n",
    "    mapping_info = pd.read_excel('./Data/행정동코드_매핑정보_2018.xlsx')\n",
    "    \n",
    "    mapping_info = mapping_info.rename(columns = {\n",
    "        '행자부행정동코드' : '행정동코드'\n",
    "    })\n",
    "    \n",
    "    mapper = mapping_info.loc[1:,['행정동코드', '행정동명']]\n",
    "    \n",
    "    mapper['행정동명'] = mapper['행정동명'].str.replace(\".\", \"·\", regex = False)\n",
    "    \n",
    "    mapper_dict = mapper.set_index('행정동코드', drop = True).to_dict()\n",
    "    \n",
    "    return mapper_dict"
   ]
  },
  {
   "cell_type": "code",
   "execution_count": 7,
   "id": "4b06b579",
   "metadata": {},
   "outputs": [],
   "source": [
    "def get_population_data():\n",
    "    base = pd.DataFrame()\n",
    "    for i in range(1, 13):\n",
    "        temp = pd.read_csv(f\"./Data/local_pop/LOCAL_PEOPLE_DONG_2020{i:02d}.csv\", index_col = False,\n",
    "                          usecols = ['행정동코드', '총생활인구수', \n",
    "                                     '남자20세부터24세생활인구수', '남자25세부터29세생활인구수',\n",
    "                                     '여자20세부터24세생활인구수', '여자25세부터29세생활인구수']) #남/여 청년인구(서울시 청년수당 지급 연령 기준)\n",
    "        base = pd.concat([base, temp], axis = 0)\n",
    "        \n",
    "    mapper_dict = get_mapping_code()\n",
    "    \n",
    "    base['행정동명'] = base['행정동코드'].astype(str).map(mapper_dict['행정동명'])\n",
    "    \n",
    "    base.loc[base['행정동코드'] == 11680510, '행정동명'] = '신사동(강남)'\n",
    "    base.loc[base['행정동코드'] == 11620685, '행정동명'] = '신사동(관악)'\n",
    "    \n",
    "    return base"
   ]
  },
  {
   "cell_type": "code",
   "execution_count": 8,
   "id": "714a5153",
   "metadata": {},
   "outputs": [],
   "source": [
    "def df_scaler(df, usecols, scaler = 'minmax'):\n",
    "    '''\n",
    "    pandas DataFrame을 스케일링 해주는 함수\n",
    "    \n",
    "    Parameters\n",
    "    ----------\n",
    "    df : 스케일링할 DataFrame\n",
    "    usecols : 스케일링할 대상 칼럼명 (타입은 str, list)\n",
    "    scaler : 스케일링 방법 설정 (minmax, robust, standard)\n",
    "    \n",
    "    Returns\n",
    "    -------\n",
    "    df_copy : 스케일링이 완료된 데이터셋\n",
    "    '''\n",
    "    \n",
    "    # 2차원 이상의 데이터만 사용\n",
    "    df_copy = df.copy() #원본에 영향 안주기 위해 카피\n",
    "    if scaler == \"minmax\": \n",
    "        X = df_copy.loc[:,usecols].to_numpy() #numpy 배열로 변환\n",
    "        scaler = MinMaxScaler()\n",
    "        min_max_train = scaler.fit_transform(X) # 스케일링\n",
    "        df_copy.loc[:,usecols] = min_max_train\n",
    "        \n",
    "    elif scaler == \"robust\":\n",
    "        X = df_copy.loc[:,usecols].to_numpy()\n",
    "        scaler = RobustScaler()\n",
    "        robust_train = scaler.fit_transform(X)\n",
    "        df_copy.loc[:,usecols] = robust_train\n",
    "        \n",
    "    elif scaler == \"standard\":\n",
    "        X = df_copy.loc[:,usecols].to_numpy()\n",
    "        scaler = StandardScaler()\n",
    "        std_train = scaler.fit_transform(X) \n",
    "        df_copy.loc[:,usecols] = std_train\n",
    "    \n",
    "    else:\n",
    "        print(\"Scaler name Error\")\n",
    "    return df_copy"
   ]
  },
  {
   "cell_type": "markdown",
   "id": "dbc63ddd",
   "metadata": {},
   "source": [
    "# Main"
   ]
  },
  {
   "cell_type": "code",
   "execution_count": 9,
   "id": "70eafa76",
   "metadata": {},
   "outputs": [],
   "source": [
    "set_hangul()"
   ]
  },
  {
   "cell_type": "code",
   "execution_count": 10,
   "id": "c7909ff7",
   "metadata": {},
   "outputs": [],
   "source": [
    "seoul = get_seoul_shpfile()"
   ]
  },
  {
   "cell_type": "code",
   "execution_count": 11,
   "id": "30770cef",
   "metadata": {},
   "outputs": [],
   "source": [
    "seoul = seoul.drop(seoul.loc[seoul['ADM_DR_CD'].isin(['항동'])].index)"
   ]
  },
  {
   "cell_type": "code",
   "execution_count": 12,
   "id": "dbf4afec",
   "metadata": {},
   "outputs": [],
   "source": [
    "# 항동 제외 - 인구정보가 없음"
   ]
  },
  {
   "cell_type": "code",
   "execution_count": 13,
   "id": "2d7ba428",
   "metadata": {},
   "outputs": [],
   "source": [
    "market = get_market_geo()"
   ]
  },
  {
   "cell_type": "code",
   "execution_count": 14,
   "id": "a0f5f44a",
   "metadata": {},
   "outputs": [],
   "source": [
    "# food = market.loc[market['상권업종대분류명']=='음식']"
   ]
  },
  {
   "cell_type": "code",
   "execution_count": 15,
   "id": "eb80097e",
   "metadata": {},
   "outputs": [],
   "source": [
    "# cafe = food.loc[food['상권업종중분류명'].str.contains('카페')]"
   ]
  },
  {
   "cell_type": "code",
   "execution_count": 16,
   "id": "bfafcb8d-7b45-4df0-ad15-e015a526a230",
   "metadata": {},
   "outputs": [],
   "source": [
    "# 커피 프렌차이즈 순위 출처 : http://rekorea.net/bbs/board.php?bo_table=repu6&wr_id=2600\n",
    "cafe_frenz = market.loc[market['상호명'].isin(['스타벅스', '투썸플레이스', '메가커피'])]\n",
    "burger_frenz = market.loc[market['상호명'].isin(['맥도날드', '버거킹', '롯데리아'])]\n",
    "conv_frenz = market.loc[market['상호명'].isin(['GS25', 'CU', '세븐일레븐'])]"
   ]
  },
  {
   "cell_type": "code",
   "execution_count": 17,
   "id": "a8c7bd97-c24e-4edd-9ee3-0df3d3165c65",
   "metadata": {},
   "outputs": [],
   "source": [
    "seoul['coor'] = seoul.geometry.apply(coord_lister) # pydeck에 사용하기 위해 폴리곤 좌표 리스트화"
   ]
  },
  {
   "cell_type": "code",
   "execution_count": 18,
   "id": "1d00bece-9328-4061-bd56-2ad5be04e0d2",
   "metadata": {},
   "outputs": [],
   "source": [
    "f = lambda x:np.sum(cafe_frenz.intersects(x)) # polygon 내부에 해당하는 point를 count\n",
    "seoul['cafe_count'] = seoul['geometry'].apply(f)\n",
    "f = lambda x:np.sum(burger_frenz.intersects(x)) # polygon 내부에 해당하는 point를 count\n",
    "seoul['burger_count'] = seoul['geometry'].apply(f)\n",
    "f = lambda x:np.sum(conv_frenz.intersects(x)) # polygon 내부에 해당하는 point를 count\n",
    "seoul['conv_count'] = seoul['geometry'].apply(f)"
   ]
  },
  {
   "cell_type": "code",
   "execution_count": 19,
   "id": "316f2f92",
   "metadata": {},
   "outputs": [],
   "source": [
    "seoul.loc[seoul['OBJECTID'] == '330', 'ADM_DR_NM'] = '신사동(관악)'\n",
    "seoul.loc[seoul['OBJECTID'] == '359', 'ADM_DR_NM'] = '신사동(강남)'"
   ]
  },
  {
   "cell_type": "markdown",
   "id": "77c75d6d",
   "metadata": {},
   "source": [
    "### 치안센터 COUNT ( 치안센터; 지구대, 파출소, 치안센터)"
   ]
  },
  {
   "cell_type": "code",
   "execution_count": 20,
   "id": "9a847f80",
   "metadata": {},
   "outputs": [],
   "source": [
    "popo = pd.read_csv('./Data/서울시_경찰서_지오코딩.csv')"
   ]
  },
  {
   "cell_type": "code",
   "execution_count": 21,
   "id": "1bc64014",
   "metadata": {},
   "outputs": [],
   "source": [
    "popo_baby = pd.read_csv('./Data/서울시_치안센터_지오코딩.csv')"
   ]
  },
  {
   "cell_type": "code",
   "execution_count": 22,
   "id": "7aa63477",
   "metadata": {},
   "outputs": [],
   "source": [
    "popo = gpd.GeoDataFrame(popo, geometry=gpd.points_from_xy(popo['lon'], popo['lat']), crs = 'EPSG:4326')\n",
    "popo_baby = gpd.GeoDataFrame(popo_baby, geometry=gpd.points_from_xy(popo_baby['lon'], popo_baby['lat']), crs = 'EPSG:4326')"
   ]
  },
  {
   "cell_type": "code",
   "execution_count": 23,
   "id": "9008a672",
   "metadata": {},
   "outputs": [],
   "source": [
    "f = lambda x:np.sum(popo_baby.intersects(x))\n",
    "seoul['popo_baby_count_tmp'] = seoul['geometry'].apply(f)\n",
    "f = lambda x:np.sum(popo.intersects(x))\n",
    "seoul['popo_count_tmp'] = seoul['geometry'].apply(f)\n",
    "\n",
    "seoul['popo_count'] = seoul['popo_baby_count_tmp'] + seoul['popo_count_tmp']"
   ]
  },
  {
   "cell_type": "code",
   "execution_count": 24,
   "id": "b136b261",
   "metadata": {},
   "outputs": [],
   "source": [
    "cctv = pd.read_csv('./Data/서울시_CCTV_지오코딩.csv') #방범용, 회전식, 고정식만"
   ]
  },
  {
   "cell_type": "code",
   "execution_count": 25,
   "id": "dd7f11c8",
   "metadata": {},
   "outputs": [],
   "source": [
    "cctv = gpd.GeoDataFrame(cctv, geometry = gpd.points_from_xy(cctv['WGS y좌표'], cctv['WGS x좌표']), crs = 'epsg:4326')"
   ]
  },
  {
   "cell_type": "code",
   "execution_count": 26,
   "id": "f6d468c6",
   "metadata": {},
   "outputs": [],
   "source": [
    "tmp = gpd.sjoin(seoul, cctv, how='left', op=\"intersects\")"
   ]
  },
  {
   "cell_type": "code",
   "execution_count": 27,
   "id": "e28c7718",
   "metadata": {},
   "outputs": [],
   "source": [
    "seoul['cctv_count'] = tmp.groupby('ADM_DR_NM', as_index=False, sort = False).sum().loc[:,'CCTV 수량']"
   ]
  },
  {
   "cell_type": "markdown",
   "id": "7476e7a9",
   "metadata": {},
   "source": [
    "## 정류소 COUNT"
   ]
  },
  {
   "cell_type": "code",
   "execution_count": 28,
   "id": "11cbd3d3",
   "metadata": {},
   "outputs": [],
   "source": [
    "metro = pd.read_csv('./Data/서울시_지하철역_전처리.csv')\n",
    "bus = pd.read_csv('./Data/서울시_버스정류소_전처리.csv')\n",
    "bike = pd.read_csv('./Data/서울시_따릉이대여소_전처리.csv')"
   ]
  },
  {
   "cell_type": "code",
   "execution_count": 29,
   "id": "e5b3fad0",
   "metadata": {},
   "outputs": [],
   "source": [
    "metro = gpd.GeoDataFrame(metro, geometry = gpd.points_from_xy(metro['역경도'], metro['역위도']), crs = 'epsg:4326')\n",
    "bus = gpd.GeoDataFrame(bus, geometry = gpd.points_from_xy(bus['X좌표'], bus['Y좌표']), crs = 'epsg:4326')\n",
    "bike = gpd.GeoDataFrame(bike, geometry = gpd.points_from_xy(bike['경도'], bike['위도']), crs = 'epsg:4326')"
   ]
  },
  {
   "cell_type": "code",
   "execution_count": 30,
   "id": "318eaab6",
   "metadata": {},
   "outputs": [],
   "source": [
    "f = lambda x:np.sum(metro.intersects(x))\n",
    "seoul['metro_count'] = seoul['geometry'].apply(f)\n",
    "# f2 = lambda x:np.sum(bus.intersects(x))\n",
    "# seoul['bus_count'] = seoul['geometry'].apply(f2)\n",
    "f = lambda x:np.sum(bike.intersects(x))\n",
    "seoul['bike_count'] = seoul['geometry'].apply(f)"
   ]
  },
  {
   "cell_type": "markdown",
   "id": "798541d2",
   "metadata": {},
   "source": [
    "### 인구정보 매핑"
   ]
  },
  {
   "cell_type": "code",
   "execution_count": 31,
   "id": "561ef1dd",
   "metadata": {},
   "outputs": [],
   "source": [
    "base = get_population_data()"
   ]
  },
  {
   "cell_type": "code",
   "execution_count": 32,
   "id": "4a925806",
   "metadata": {},
   "outputs": [],
   "source": [
    "mean_pop = base.groupby('행정동명', as_index=False).mean() #행정동별 1년 평균 생활인구"
   ]
  },
  {
   "cell_type": "code",
   "execution_count": 33,
   "id": "6aebfe61",
   "metadata": {},
   "outputs": [],
   "source": [
    "mean_pop['평균청년인구'] = mean_pop.iloc[:,3:].sum(axis = 1) #남성/여성 행정동별로 1년 평균된 청년인구"
   ]
  },
  {
   "cell_type": "code",
   "execution_count": 34,
   "id": "e1ecd50c",
   "metadata": {},
   "outputs": [],
   "source": [
    "total_pop = mean_pop['총생활인구수']"
   ]
  },
  {
   "cell_type": "code",
   "execution_count": 35,
   "id": "24e4ad70",
   "metadata": {},
   "outputs": [],
   "source": [
    "mean_pop['청년인구비율'] = mean_pop['평균청년인구'] / mean_pop['총생활인구수']"
   ]
  },
  {
   "cell_type": "code",
   "execution_count": 36,
   "id": "8121ae5f",
   "metadata": {},
   "outputs": [],
   "source": [
    "mean_pop['생활인구지수'] = 25000 / mean_pop['총생활인구수']"
   ]
  },
  {
   "cell_type": "code",
   "execution_count": 37,
   "id": "aa38fa75",
   "metadata": {},
   "outputs": [
    {
     "data": {
      "text/plain": [
       "count       424.000000\n",
       "mean      24908.398065\n",
       "std       11902.302619\n",
       "min        4758.037873\n",
       "25%       16788.105560\n",
       "50%       22765.786101\n",
       "75%       30590.602959\n",
       "max      104456.903466\n",
       "Name: 총생활인구수, dtype: float64"
      ]
     },
     "execution_count": 37,
     "metadata": {},
     "output_type": "execute_result"
    }
   ],
   "source": [
    "mean_pop['총생활인구수'].describe() #평균 25,000 / 총생활인구수"
   ]
  },
  {
   "cell_type": "code",
   "execution_count": 38,
   "id": "8da1a341",
   "metadata": {},
   "outputs": [],
   "source": [
    "seoul_pop = seoul.merge(mean_pop.rename(columns = {'행정동명':'ADM_DR_NM'}), on = 'ADM_DR_NM')"
   ]
  },
  {
   "cell_type": "code",
   "execution_count": 39,
   "id": "ab0ff030",
   "metadata": {},
   "outputs": [],
   "source": [
    "# 상관관계 분석\n",
    "import seaborn as sns"
   ]
  },
  {
   "cell_type": "code",
   "execution_count": 40,
   "id": "61a0cbdf",
   "metadata": {},
   "outputs": [],
   "source": [
    "usecols = ['cafe_count','burger_count', 'conv_count', \n",
    "           'popo_baby_count_tmp', 'popo_count_tmp', 'popo_count', 'cctv_count',\n",
    "           'metro_count', 'bike_count',\n",
    "           '총생활인구수', '평균청년인구']\n",
    "seoul_pop_cor = seoul_pop.loc[:,usecols].corr()\n",
    "seoul_pop_cor = seoul_pop.loc[:,usecols].corr()"
   ]
  },
  {
   "cell_type": "code",
   "execution_count": 41,
   "id": "f44784e3",
   "metadata": {},
   "outputs": [
    {
     "data": {
      "image/png": "[encoded data removed]",
      "text/plain": [
       "<Figure size 504x504 with 2 Axes>"
      ]
     },
     "metadata": {},
     "output_type": "display_data"
    }
   ],
   "source": [
    "fig, ax = plt.subplots( figsize=(7,7))\n",
    "sns.heatmap(seoul_pop_cor, \n",
    "                annot = True,      # 실제 값 화면에 나타내기\n",
    "                cmap = 'RdYlBu_r',  # Red, Yellow, Blue 색상으로 표시\n",
    "                vmin = -1, vmax = 1, #컬러차트 -1 ~ 1 범위로 표시\n",
    "                ax = ax\n",
    "           );"
   ]
  },
  {
   "cell_type": "code",
   "execution_count": 42,
   "id": "455ea1bb",
   "metadata": {},
   "outputs": [],
   "source": [
    "from scipy.stats import pearsonr\n",
    "cafe_pearsonr = pearsonr(seoul_pop.loc[:,'총생활인구수'], seoul_pop.loc[:,'cafe_count'])\n",
    "burger_pearsonr = pearsonr(seoul_pop.loc[:,'총생활인구수'], seoul_pop.loc[:,'burger_count'])\n",
    "conv_pearsonr = pearsonr(seoul_pop.loc[:,'총생활인구수'], seoul_pop.loc[:,'conv_count'])\n",
    "popo_pearsonr = pearsonr(seoul_pop.loc[:,'총생활인구수'], seoul_pop.loc[:,'popo_count'])\n",
    "cctv_pearsonr = pearsonr(seoul_pop.loc[:,'총생활인구수'], seoul_pop.loc[:,'cctv_count'])\n",
    "metro_pearsonr = pearsonr(seoul_pop.loc[:,'총생활인구수'], seoul_pop.loc[:,'metro_count'])\n",
    "bike_pearsonr = pearsonr(seoul_pop.loc[:,'총생활인구수'], seoul_pop.loc[:,'bike_count'])"
   ]
  },
  {
   "cell_type": "code",
   "execution_count": 43,
   "id": "26101026",
   "metadata": {},
   "outputs": [
    {
     "name": "stdout",
     "output_type": "stream",
     "text": [
      "<총생활인구수와 카페 대표 프렌차이즈 수의 상관관계>\n",
      "# r값 : 0.6123532555275871 # p값 : 5.425769051582247e-45\n",
      "<총생활인구수와 햄버거 대표 프렌차이즈 수의 상관관계>\n",
      "# r값 : 0.40924704818946844 # p값 : 1.4963055742744776e-18\n",
      "<총생활인구수와 편의점 대표 프렌차이즈 수의 상관관계>\n",
      "# r값 : 0.6932752402758081 # p값 : 5.158695102996565e-62\n",
      "<총생활인구수와 파출소, 지구대, 치안센터 수의 상관관계>\n",
      "# r값 : 0.31592688906439614 # p값 : 2.787272279249818e-11\n",
      "<총생활인구수와 cctv 수의 상관관계>\n",
      "# r값 : 0.4424698198299441 # p값 : 9.401169625818668e-22\n",
      "<총생활인구수와 지하철 역 수의 상관관계>\n",
      "# r값 : 0.3999725903461018 # p값 : 1.0164726212809815e-17\n",
      "<총생활인구수와 따릉이 대여소 수의 상관관계>\n",
      "# r값 : 0.6223713779199286 # p값 : 7.866373285586064e-47\n"
     ]
    }
   ],
   "source": [
    "# 생활인구와 강한 상관성이 있는 것은 카페와 편의점 수였고, 반면 치안센터 수 또는 CCTV 수는 약한 상관관계를 보였다.\n",
    "# 그리고 지하철 역은 약한 상관관계를 보였지만 따릉이 대여소는 생활인구수와 중간정도의 상관성을 보였다.\n",
    "# p값이 모두 0.05보다 작으므로 귀무가설(상관관계가 없다) 기각, 대립가설(상관관계가 있다) 채택\n",
    "print(f'<총생활인구수와 카페 대표 프렌차이즈 수의 상관관계>\\n# r값 : {cafe_pearsonr[0]} # p값 : {cafe_pearsonr[1]}')\n",
    "print(f'<총생활인구수와 햄버거 대표 프렌차이즈 수의 상관관계>\\n# r값 : {burger_pearsonr[0]} # p값 : {burger_pearsonr[1]}')\n",
    "print(f'<총생활인구수와 편의점 대표 프렌차이즈 수의 상관관계>\\n# r값 : {conv_pearsonr[0]} # p값 : {conv_pearsonr[1]}')\n",
    "print(f'<총생활인구수와 파출소, 지구대, 치안센터 수의 상관관계>\\n# r값 : {popo_pearsonr[0]} # p값 : {popo_pearsonr[1]}')\n",
    "print(f'<총생활인구수와 cctv 수의 상관관계>\\n# r값 : {cctv_pearsonr[0]} # p값 : {cctv_pearsonr[1]}')\n",
    "print(f'<총생활인구수와 지하철 역 수의 상관관계>\\n# r값 : {metro_pearsonr[0]} # p값 : {metro_pearsonr[1]}')\n",
    "print(f'<총생활인구수와 따릉이 대여소 수의 상관관계>\\n# r값 : {bike_pearsonr[0]} # p값 : {bike_pearsonr[1]}')"
   ]
  },
  {
   "cell_type": "code",
   "execution_count": 44,
   "id": "3cc2a41e",
   "metadata": {},
   "outputs": [],
   "source": [
    "# 0.57, 0.4, 0.5\n",
    "seoul_pop['식문화지수'] = (seoul_pop['cafe_count'] + seoul_pop['burger_count'] + seoul_pop['conv_count']) * seoul_pop['생활인구지수']# * .57\n",
    "seoul_pop['범죄예방지수'] = (seoul_pop['popo_count'] + (seoul_pop['cctv_count']-seoul_pop['cctv_count'].mean())) * seoul_pop['생활인구지수']# * .4\n",
    "seoul_pop['교통지수'] = (seoul_pop['metro_count'] + seoul_pop['bike_count']) * seoul_pop['생활인구지수']# * .5"
   ]
  },
  {
   "cell_type": "code",
   "execution_count": 124,
   "id": "27bc7ecc",
   "metadata": {},
   "outputs": [],
   "source": [
    "from sklearn.preprocessing import StandardScaler, MinMaxScaler, RobustScaler\n",
    "\n",
    "usecols = ['식문화지수', '범죄예방지수', '교통지수']\n",
    "seoul_final = df_scaler(seoul_pop, usecols, scaler='minmax')"
   ]
  },
  {
   "cell_type": "code",
   "execution_count": 125,
   "id": "088215ec",
   "metadata": {},
   "outputs": [],
   "source": [
    "seoul_final['geometry'] = seoul_pop.geometry"
   ]
  },
  {
   "cell_type": "code",
   "execution_count": 126,
   "id": "1388413a",
   "metadata": {},
   "outputs": [],
   "source": [
    "seoul_final['최종지수'] = seoul_final.loc[:,['식문화지수', '범죄예방지수', '교통지수']].sum(axis = 1)"
   ]
  },
  {
   "cell_type": "code",
   "execution_count": 127,
   "id": "b0123e6a",
   "metadata": {
    "scrolled": true
   },
   "outputs": [
    {
     "data": {
      "text/html": [
       "<div>\n",
       "<style scoped>\n",
       "    .dataframe tbody tr th:only-of-type {\n",
       "        vertical-align: middle;\n",
       "    }\n",
       "\n",
       "    .dataframe tbody tr th {\n",
       "        vertical-align: top;\n",
       "    }\n",
       "\n",
       "    .dataframe thead th {\n",
       "        text-align: right;\n",
       "    }\n",
       "</style>\n",
       "<table border=\"1\" class=\"dataframe\">\n",
       "  <thead>\n",
       "    <tr style=\"text-align: right;\">\n",
       "      <th></th>\n",
       "      <th>식문화지수</th>\n",
       "      <th>범죄예방지수</th>\n",
       "      <th>교통지수</th>\n",
       "    </tr>\n",
       "  </thead>\n",
       "  <tbody>\n",
       "    <tr>\n",
       "      <th>count</th>\n",
       "      <td>424.000000</td>\n",
       "      <td>424.000000</td>\n",
       "      <td>424.000000</td>\n",
       "    </tr>\n",
       "    <tr>\n",
       "      <th>mean</th>\n",
       "      <td>0.285875</td>\n",
       "      <td>0.551134</td>\n",
       "      <td>0.207053</td>\n",
       "    </tr>\n",
       "    <tr>\n",
       "      <th>std</th>\n",
       "      <td>0.145957</td>\n",
       "      <td>0.108208</td>\n",
       "      <td>0.129841</td>\n",
       "    </tr>\n",
       "    <tr>\n",
       "      <th>min</th>\n",
       "      <td>0.000000</td>\n",
       "      <td>0.000000</td>\n",
       "      <td>0.000000</td>\n",
       "    </tr>\n",
       "    <tr>\n",
       "      <th>25%</th>\n",
       "      <td>0.191203</td>\n",
       "      <td>0.489667</td>\n",
       "      <td>0.122561</td>\n",
       "    </tr>\n",
       "    <tr>\n",
       "      <th>50%</th>\n",
       "      <td>0.264615</td>\n",
       "      <td>0.558047</td>\n",
       "      <td>0.180596</td>\n",
       "    </tr>\n",
       "    <tr>\n",
       "      <th>75%</th>\n",
       "      <td>0.346724</td>\n",
       "      <td>0.610538</td>\n",
       "      <td>0.266467</td>\n",
       "    </tr>\n",
       "    <tr>\n",
       "      <th>max</th>\n",
       "      <td>1.000000</td>\n",
       "      <td>1.000000</td>\n",
       "      <td>1.000000</td>\n",
       "    </tr>\n",
       "  </tbody>\n",
       "</table>\n",
       "</div>"
      ],
      "text/plain": [
       "            식문화지수      범죄예방지수        교통지수\n",
       "count  424.000000  424.000000  424.000000\n",
       "mean     0.285875    0.551134    0.207053\n",
       "std      0.145957    0.108208    0.129841\n",
       "min      0.000000    0.000000    0.000000\n",
       "25%      0.191203    0.489667    0.122561\n",
       "50%      0.264615    0.558047    0.180596\n",
       "75%      0.346724    0.610538    0.266467\n",
       "max      1.000000    1.000000    1.000000"
      ]
     },
     "execution_count": 127,
     "metadata": {},
     "output_type": "execute_result"
    }
   ],
   "source": [
    "seoul_final.loc[:,usecols].describe()"
   ]
  },
  {
   "cell_type": "code",
   "execution_count": 128,
   "id": "cd085ea7",
   "metadata": {},
   "outputs": [],
   "source": [
    "seoul_final['color'] = (seoul_final['최종지수']\n",
    "                        .apply(lambda v: [0, v * 100, v * 250, 250]))\n",
    "seoul_final['elev_pop'] = seoul_final['최종지수'] ** 2 * 15"
   ]
  },
  {
   "cell_type": "code",
   "execution_count": 129,
   "id": "6a60ff25",
   "metadata": {
    "scrolled": false
   },
   "outputs": [
    {
     "data": {
      "image/png": "[encoded data removed]",
      "text/plain": [
       "<Figure size 1152x576 with 2 Axes>"
      ]
     },
     "metadata": {},
     "output_type": "display_data"
    }
   ],
   "source": [
    "top_10 = (seoul_final.loc[:,['ADM_DR_NM', '최종지수']]\n",
    "          .sort_values('최종지수', ascending = False).iloc[:10,:])\n",
    "\n",
    "bot_10 = (seoul_final.loc[:,['ADM_DR_NM', '최종지수']]\n",
    "          .sort_values('최종지수', ascending = False).iloc[:-10:-1,:])\n",
    "\n",
    "fig, ax = plt.subplots(1, 2, figsize = (16,8))\n",
    "sns.barplot(x = 'ADM_DR_NM', y = '최종지수', data = top_10,\n",
    "            ax = ax[0]);\n",
    "sns.barplot(x = 'ADM_DR_NM', y = '최종지수', data = bot_10,\n",
    "            ax = ax[1]);"
   ]
  },
  {
   "cell_type": "code",
   "execution_count": 130,
   "id": "4d2ff4ea",
   "metadata": {},
   "outputs": [],
   "source": [
    "base = pdk.Layer(\n",
    "    'PolygonLayer', # 사용할 Layer 타입\n",
    "    seoul_final, # 시각화에 쓰일 데이터프레임\n",
    "    get_polygon = 'coor', # geometry 정보를 담고있는 컬럼 이름\n",
    "    get_fill_color = 'color', # 각 데이터 별 rgb 또는 rgba 값 (0~255)\n",
    "    auto_highlight = True,\n",
    "    pickable = True, \n",
    "    get_elevation = 'elev_pop',\n",
    "    elevation_scale = 30,\n",
    "    extruded=True,\n",
    "    )\n",
    "\n",
    "center = [126.986,37.563]\n",
    "zoom = 10\n",
    "\n",
    "view_state = pdk.ViewState(\n",
    "        longitude=center[0],\n",
    "        latitude=center[1],\n",
    "        zoom=zoom,\n",
    "        pitch = 30,\n",
    "        bearing = 10\n",
    "    )\n",
    "\n",
    "text = {\n",
    "    'text' : '행정동 : {ADM_DR_NM}\\n<합산지수 : {최종지수}>\\n 식문화지수 : {식문화지수}\\n 범죄예방지수 : {범죄예방지수}\\n 교통지수 : {교통지수}'\n",
    "}"
   ]
  },
  {
   "cell_type": "code",
   "execution_count": 1,
   "id": "23c378c1",
   "metadata": {},
   "outputs": [],
   "source": [
    "# layers = [base]\n",
    "# pdk.Deck(layers=layers, initial_view_state=view_state, tooltip=text,\n",
    "#          map_style = 'dark') #생활인구반영한 가게 수"
   ]
  },
  {
   "cell_type": "code",
   "execution_count": 53,
   "id": "37860226",
   "metadata": {},
   "outputs": [
    {
     "data": {
      "image/png": "[encoded data removed]",
      "text/plain": [
       "<Figure size 576x576 with 1 Axes>"
      ]
     },
     "metadata": {},
     "output_type": "display_data"
    }
   ],
   "source": [
    "from sklearn.cluster import KMeans \n",
    "fig, ax = plt.subplots(1,1,figsize = (8,8))\n",
    "distortions = []\n",
    "use = ['식문화지수', '범죄예방지수', '교통지수']\n",
    "\n",
    "for j in range(1, 20):\n",
    "    km = KMeans(n_clusters=j)\n",
    "    km.fit(seoul_final.loc[:,use])\n",
    "    distortions.append(km.inertia_) # 군집 내 분산, 적을수록 좋음\n",
    "\n",
    "ax.plot(range(1, 20), distortions, marker='o')\n",
    "ax.set_title('elbow point')\n",
    "ax.set_xlabel('Number of clusters')\n",
    "ax.set_ylabel('Distortion')\n",
    "plt.show()"
   ]
  },
  {
   "cell_type": "code",
   "execution_count": 108,
   "id": "09911b72",
   "metadata": {},
   "outputs": [],
   "source": [
    "kmeans = KMeans(n_clusters=4)\n",
    "kmeans.fit(seoul_final.loc[:,use])\n",
    "labels = kmeans.labels_"
   ]
  },
  {
   "cell_type": "code",
   "execution_count": 109,
   "id": "172644d3",
   "metadata": {
    "scrolled": true
   },
   "outputs": [
    {
     "data": {
      "text/html": [
       "<div>\n",
       "<style scoped>\n",
       "    .dataframe tbody tr th:only-of-type {\n",
       "        vertical-align: middle;\n",
       "    }\n",
       "\n",
       "    .dataframe tbody tr th {\n",
       "        vertical-align: top;\n",
       "    }\n",
       "\n",
       "    .dataframe thead th {\n",
       "        text-align: right;\n",
       "    }\n",
       "</style>\n",
       "<table border=\"1\" class=\"dataframe\">\n",
       "  <thead>\n",
       "    <tr style=\"text-align: right;\">\n",
       "      <th></th>\n",
       "      <th>식문화지수</th>\n",
       "      <th>범죄예방지수</th>\n",
       "      <th>교통지수</th>\n",
       "      <th>cluster</th>\n",
       "    </tr>\n",
       "  </thead>\n",
       "  <tbody>\n",
       "    <tr>\n",
       "      <th>0</th>\n",
       "      <td>0.339799</td>\n",
       "      <td>0.504724</td>\n",
       "      <td>0.521392</td>\n",
       "      <td>1</td>\n",
       "    </tr>\n",
       "    <tr>\n",
       "      <th>1</th>\n",
       "      <td>0.766754</td>\n",
       "      <td>0.108190</td>\n",
       "      <td>0.819362</td>\n",
       "      <td>2</td>\n",
       "    </tr>\n",
       "    <tr>\n",
       "      <th>2</th>\n",
       "      <td>0.380237</td>\n",
       "      <td>0.547249</td>\n",
       "      <td>0.263359</td>\n",
       "      <td>0</td>\n",
       "    </tr>\n",
       "    <tr>\n",
       "      <th>3</th>\n",
       "      <td>0.297132</td>\n",
       "      <td>0.534868</td>\n",
       "      <td>0.246959</td>\n",
       "      <td>1</td>\n",
       "    </tr>\n",
       "    <tr>\n",
       "      <th>4</th>\n",
       "      <td>0.351263</td>\n",
       "      <td>0.191370</td>\n",
       "      <td>0.328443</td>\n",
       "      <td>1</td>\n",
       "    </tr>\n",
       "  </tbody>\n",
       "</table>\n",
       "</div>"
      ],
      "text/plain": [
       "      식문화지수    범죄예방지수      교통지수  cluster\n",
       "0  0.339799  0.504724  0.521392        1\n",
       "1  0.766754  0.108190  0.819362        2\n",
       "2  0.380237  0.547249  0.263359        0\n",
       "3  0.297132  0.534868  0.246959        1\n",
       "4  0.351263  0.191370  0.328443        1"
      ]
     },
     "execution_count": 109,
     "metadata": {},
     "output_type": "execute_result"
    }
   ],
   "source": [
    "clusters = pd.concat([seoul_final.loc[:,use],\n",
    "                      pd.DataFrame({'cluster' : labels})], axis = 1)\n",
    "clusters.head()"
   ]
  },
  {
   "cell_type": "code",
   "execution_count": 110,
   "id": "b9f31e62",
   "metadata": {},
   "outputs": [
    {
     "data": {
      "text/html": [
       "<div>\n",
       "<style scoped>\n",
       "    .dataframe tbody tr th:only-of-type {\n",
       "        vertical-align: middle;\n",
       "    }\n",
       "\n",
       "    .dataframe tbody tr th {\n",
       "        vertical-align: top;\n",
       "    }\n",
       "\n",
       "    .dataframe thead th {\n",
       "        text-align: right;\n",
       "    }\n",
       "</style>\n",
       "<table border=\"1\" class=\"dataframe\">\n",
       "  <thead>\n",
       "    <tr style=\"text-align: right;\">\n",
       "      <th></th>\n",
       "      <th>식문화지수</th>\n",
       "      <th>범죄예방지수</th>\n",
       "      <th>교통지수</th>\n",
       "    </tr>\n",
       "    <tr>\n",
       "      <th>cluster</th>\n",
       "      <th></th>\n",
       "      <th></th>\n",
       "      <th></th>\n",
       "    </tr>\n",
       "  </thead>\n",
       "  <tbody>\n",
       "    <tr>\n",
       "      <th>0</th>\n",
       "      <td>0.340451</td>\n",
       "      <td>0.622735</td>\n",
       "      <td>0.152236</td>\n",
       "    </tr>\n",
       "    <tr>\n",
       "      <th>1</th>\n",
       "      <td>0.261404</td>\n",
       "      <td>0.509459</td>\n",
       "      <td>0.356133</td>\n",
       "    </tr>\n",
       "    <tr>\n",
       "      <th>2</th>\n",
       "      <td>0.688912</td>\n",
       "      <td>0.490211</td>\n",
       "      <td>0.425328</td>\n",
       "    </tr>\n",
       "    <tr>\n",
       "      <th>3</th>\n",
       "      <td>0.172560</td>\n",
       "      <td>0.498946</td>\n",
       "      <td>0.150134</td>\n",
       "    </tr>\n",
       "  </tbody>\n",
       "</table>\n",
       "</div>"
      ],
      "text/plain": [
       "            식문화지수    범죄예방지수      교통지수\n",
       "cluster                              \n",
       "0        0.340451  0.622735  0.152236\n",
       "1        0.261404  0.509459  0.356133\n",
       "2        0.688912  0.490211  0.425328\n",
       "3        0.172560  0.498946  0.150134"
      ]
     },
     "execution_count": 110,
     "metadata": {},
     "output_type": "execute_result"
    }
   ],
   "source": [
    "clusters.groupby('cluster').mean()\n",
    "# 0 : 중, 상, 하\n",
    "# 1 : 중, 중, 중\n",
    "# 2 : 상, 하, 상\n",
    "# 3 : 하, 하, 하\n"
   ]
  },
  {
   "cell_type": "code",
   "execution_count": 111,
   "id": "3aadbb10",
   "metadata": {},
   "outputs": [
    {
     "data": {
      "image/png": "[encoded data removed]",
      "text/plain": [
       "<Figure size 864x216 with 4 Axes>"
      ]
     },
     "metadata": {},
     "output_type": "display_data"
    },
    {
     "data": {
      "image/png": "[encoded data removed]",
      "text/plain": [
       "<Figure size 864x216 with 4 Axes>"
      ]
     },
     "metadata": {},
     "output_type": "display_data"
    },
    {
     "data": {
      "image/png": "[encoded data removed]",
      "text/plain": [
       "<Figure size 864x216 with 4 Axes>"
      ]
     },
     "metadata": {},
     "output_type": "display_data"
    },
    {
     "data": {
      "image/png": "[encoded data removed]",
      "text/plain": [
       "<Figure size 864x216 with 4 Axes>"
      ]
     },
     "metadata": {},
     "output_type": "display_data"
    }
   ],
   "source": [
    "# for c in clusters:\n",
    "#     grid= sns.FacetGrid(clusters, col='cluster')\n",
    "#     grid.map(plt.hist, c)"
   ]
  },
  {
   "cell_type": "code",
   "execution_count": 112,
   "id": "92016f15",
   "metadata": {},
   "outputs": [],
   "source": [
    "cluster_final = pd.concat([clusters, seoul_final.loc[:,['ADM_DR_NM', 'geometry']]], axis = 1)"
   ]
  },
  {
   "cell_type": "code",
   "execution_count": 113,
   "id": "507b1fb0",
   "metadata": {},
   "outputs": [],
   "source": [
    "cluster_final['coor'] = cluster_final.geometry.apply(coord_lister)"
   ]
  },
  {
   "cell_type": "code",
   "execution_count": 114,
   "id": "4ca43e46",
   "metadata": {},
   "outputs": [],
   "source": [
    "c0 = cluster_final.loc[cluster_final['cluster'] == 0]\n",
    "c1 = cluster_final.loc[cluster_final['cluster'] == 1]\n",
    "c2 = cluster_final.loc[cluster_final['cluster'] == 2]\n",
    "c3 = cluster_final.loc[cluster_final['cluster'] == 3]"
   ]
  },
  {
   "cell_type": "code",
   "execution_count": 115,
   "id": "e08a14cd",
   "metadata": {},
   "outputs": [],
   "source": [
    "c0_layer = pdk.Layer(\n",
    "    'PolygonLayer', # 사용할 Layer 타입\n",
    "     c0, # 시각화에 쓰일 데이터프레임\n",
    "     get_polygon = 'coor', # geometry 정보를 담고있는 컬럼 이름\n",
    "     get_fill_color = '[150, 50, 0, 100]', # 각 데이터 별 rgb 또는 rgba 값 (0~255)\n",
    "    auto_highlight = True,\n",
    "    pickable = True, \n",
    "    #get_elevation = 'elev_pop',\n",
    "    #elevation_scale = 30,\n",
    "    #extruded=True,\n",
    "    )\n",
    "c1_layer = pdk.Layer(\n",
    "    'PolygonLayer', # 사용할 Layer 타입\n",
    "     c1, # 시각화에 쓰일 데이터프레임\n",
    "     get_polygon = 'coor', # geometry 정보를 담고있는 컬럼 이름\n",
    "     get_fill_color = '[50, 150, 0, 100]', # 각 데이터 별 rgb 또는 rgba 값 (0~255)\n",
    "    auto_highlight = True,\n",
    "    pickable = True, \n",
    "    #get_elevation = 'elev_pop',\n",
    "    #elevation_scale = 30,\n",
    "    #extruded=True,\n",
    "    )\n",
    "c2_layer = pdk.Layer(\n",
    "    'PolygonLayer', # 사용할 Layer 타입\n",
    "     c2, # 시각화에 쓰일 데이터프레임\n",
    "     get_polygon = 'coor', # geometry 정보를 담고있는 컬럼 이름\n",
    "     get_fill_color = '[0, 50, 150, 100]', # 각 데이터 별 rgb 또는 rgba 값 (0~255)\n",
    "    auto_highlight = True,\n",
    "    pickable = True, \n",
    "    #get_elevation = 'elev_pop',\n",
    "    #elevation_scale = 30,\n",
    "    #extruded=True,\n",
    "    )\n",
    "c3_layer = pdk.Layer(\n",
    "    'PolygonLayer', # 사용할 Layer 타입\n",
    "     c3, # 시각화에 쓰일 데이터프레임\n",
    "     get_polygon = 'coor', # geometry 정보를 담고있는 컬럼 이름\n",
    "     get_fill_color = '[150, 0, 150, 100]', # 각 데이터 별 rgb 또는 rgba 값 (0~255)\n",
    "    auto_highlight = True,\n",
    "    pickable = True, \n",
    "    #get_elevation = 'elev_pop',\n",
    "    #elevation_scale = 30,\n",
    "    #extruded=True,\n",
    "    )\n",
    "\n",
    "center = [126.986,37.563]\n",
    "zoom = 10\n",
    "\n",
    "view_state = pdk.ViewState(\n",
    "        longitude=center[0],\n",
    "        latitude=center[1],\n",
    "        zoom=zoom,\n",
    "        pitch = 30,\n",
    "        bearing = 10\n",
    "    )\n",
    "\n",
    "text = {\n",
    "    'text' : '행정동 : {ADM_DR_NM} # {cluster}\\n 식문화지수 : {식문화지수}\\n 범죄예방지수 : {범죄예방지수}\\n 교통지수 : {교통지수}'\n",
    "}"
   ]
  },
  {
   "cell_type": "code",
   "execution_count": 2,
   "id": "63b4c253",
   "metadata": {},
   "outputs": [],
   "source": [
    "# 0 : 중, 상, 하\n",
    "# 1 : 중, 중, 중\n",
    "# 2 : 상, 하, 상\n",
    "# 3 : 하, 하, 하\n",
    "# layers = [c0_layer, c1_layer, c2_layer, c3_layer]\n",
    "# pdk.Deck(layers=layers, initial_view_state=view_state, tooltip=text,\n",
    "#          map_style = 'dark')"
   ]
  },
  {
   "cell_type": "code",
   "execution_count": null,
   "id": "1bb049d3",
   "metadata": {},
   "outputs": [],
   "source": []
  }
 ],
 "metadata": {
  "kernelspec": {
   "display_name": "Python 3",
   "language": "python",
   "name": "python3"
  },
  "language_info": {
   "codemirror_mode": {
    "name": "ipython",
    "version": 3
   },
   "file_extension": ".py",
   "mimetype": "text/x-python",
   "name": "python",
   "nbconvert_exporter": "python",
   "pygments_lexer": "ipython3",
   "version": "3.8.8"
  }
 },
 "nbformat": 4,
 "nbformat_minor": 5
}
