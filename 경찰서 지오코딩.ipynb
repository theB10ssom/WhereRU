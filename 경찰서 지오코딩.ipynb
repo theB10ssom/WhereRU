{
 "cells": [
  {
   "cell_type": "code",
   "execution_count": 2,
   "id": "0e5eca2b",
   "metadata": {},
   "outputs": [],
   "source": [
    "import pandas as pd"
   ]
  },
  {
   "cell_type": "code",
   "execution_count": 22,
   "id": "500c8e66",
   "metadata": {},
   "outputs": [],
   "source": [
    "popo = pd.read_csv('./Data/경찰청_전국 치안센터 주소_20210203.csv', encoding = 'cp949')"
   ]
  },
  {
   "cell_type": "code",
   "execution_count": 24,
   "id": "e5817722",
   "metadata": {},
   "outputs": [],
   "source": [
    "popo = popo.loc[popo['지방청'].str.contains('서울')]"
   ]
  },
  {
   "cell_type": "code",
   "execution_count": 26,
   "id": "e4321ee7",
   "metadata": {},
   "outputs": [],
   "source": [
    "import json\n",
    "with open('./Application_info.json', 'rb') as f:\n",
    "     info = json.load(f)"
   ]
  },
  {
   "cell_type": "code",
   "execution_count": 27,
   "id": "b3721f5c",
   "metadata": {},
   "outputs": [],
   "source": [
    "def get_request_query(url, params, serviceKey):\n",
    "    params = urlparse.urlencode(params)\n",
    "    request_query = url + '?' + params + '&' + 'key' + '=' + serviceKey\n",
    "    return request_query"
   ]
  },
  {
   "cell_type": "code",
   "execution_count": 28,
   "id": "87ffb2aa",
   "metadata": {},
   "outputs": [],
   "source": [
    "def get_response_content(response):\n",
    "    \n",
    "    condition = response.ok\n",
    "    \n",
    "    df_temp = pd.DataFrame()\n",
    "    \n",
    "    if condition == True:\n",
    "        content = response.content\n",
    "        tmp = xmltodict.parse(content)['response']['result']['items']['item']\n",
    "        df_temp = pd.DataFrame(tmp)\n",
    "    else:\n",
    "        print(f\"status code : {response.status_code}\")\n",
    "\n",
    "    return df_temp"
   ]
  },
  {
   "cell_type": "code",
   "execution_count": 29,
   "id": "e16213d8",
   "metadata": {},
   "outputs": [],
   "source": [
    "def collect_data_from_api(URL, SERVICEKEY, PARAMS):\n",
    "    request_query = get_request_query(URL, PARAMS, SERVICEKEY)\n",
    "    \n",
    "    response = requests.get(url=request_query)\n",
    "\n",
    "    root = get_response_content(response)\n",
    "    \n",
    "    return root"
   ]
  },
  {
   "cell_type": "code",
   "execution_count": 30,
   "id": "ff469fa3",
   "metadata": {},
   "outputs": [],
   "source": [
    "import urllib.request\n",
    "import urllib.parse as urlparse\n",
    "import requests\n",
    "import xmltodict\n",
    "import json"
   ]
  },
  {
   "cell_type": "code",
   "execution_count": 31,
   "id": "69aea42a",
   "metadata": {},
   "outputs": [],
   "source": [
    "popo = popo.reset_index(drop = True)"
   ]
  },
  {
   "cell_type": "code",
   "execution_count": 34,
   "id": "a5004de9",
   "metadata": {
    "scrolled": false
   },
   "outputs": [
    {
     "name": "stdout",
     "output_type": "stream",
     "text": [
      "0\n",
      "10\n",
      "20\n",
      "30\n",
      "40\n",
      "50\n",
      "60\n",
      "70\n",
      "80\n",
      "90\n",
      "100\n",
      "110\n",
      "120\n",
      "130\n",
      "140\n",
      "150\n",
      "160\n"
     ]
    }
   ],
   "source": [
    "url = 'http://api.vworld.kr/req/address'\n",
    "params = {\n",
    "    'service' : 'address',\n",
    "    'request' : 'getcoord',\n",
    "    'version' : '2.0',\n",
    "    'crs' : 'epsg:4326',\n",
    "    'address' : popo.loc[0,'주소'],\n",
    "    'refine' : 'true',\n",
    "    'simple' : 'false',\n",
    "    'format' : 'xml',\n",
    "    'type' : 'road'\n",
    "}\n",
    "\n",
    "key = info['Keys']['VWorld']\n",
    "\n",
    "lons, lats = [], []\n",
    "\n",
    "for i in range(len(popo)):\n",
    "    if i % 10 == 0:\n",
    "        print(i)\n",
    "    params.update({'address': popo.loc[i,'주소']})\n",
    "    \n",
    "    request_query = get_request_query(url, params, key)\n",
    "    request = requests.get(url=request_query)\n",
    "    \n",
    "    \n",
    "    content = xmltodict.parse(request.content)\n",
    "    \n",
    "    if content['response']['status'] == 'NOT_FOUND':\n",
    "        lon = 'NOT_FOUND'\n",
    "        lat = 'NOT_FOUND'\n",
    "    else:\n",
    "        lon = content['response']['result']['point']['x']\n",
    "        lat = content['response']['result']['point']['y']\n",
    "        \n",
    "    lons.append(lon)\n",
    "    lats.append(lat)\n",
    "\n",
    "print('Done')"
   ]
  },
  {
   "cell_type": "code",
   "execution_count": 42,
   "id": "3757a5f1",
   "metadata": {},
   "outputs": [],
   "source": [
    "lats[8] = '37.5501909'\n",
    "lons[8] = '126.9721088'\n",
    "\n",
    "lats[24] = '37.5790983'\n",
    "lons[24] = '127.0522181'\n",
    "\n",
    "lats[26] = '37.567768'\n",
    "lons[26] = '127.0730669'\n",
    "\n",
    "lats[34] = '37.5573016'\n",
    "lons[34] = '126.9282706'\n",
    "\n",
    "lats[52] = '37.496812'\n",
    "lons[52] = '126.9819984'\n",
    "\n",
    "lats[55] = '37.4988699'\n",
    "lons[55] = '126.9254854'\n",
    "\n",
    "lats[66] = '37.6631326'\n",
    "lons[66] = '127.0127171'\n",
    "\n",
    "lats[67] = '37.6443303'\n",
    "lons[67] = '127.0152805'\n",
    "\n",
    "lats[90] = '37.4818815'\n",
    "lons[90] = '126.929143'\n",
    "\n",
    "lats[91] = '37.479479'\n",
    "lons[91] = '126.9264494'\n",
    "\n",
    "#청룡2치안센터는 지도상 나타나지 않음\n",
    "\n",
    "lats[99] = '37.5463112'\n",
    "lons[99] = '127.1236774'\n",
    "\n",
    "lats[100] = '37.5379319'\n",
    "lons[100] = '127.1269891'\n",
    "\n",
    "lats[101] = '37.5379319'\n",
    "lons[101] = '127.1269891'\n",
    "\n",
    "lats[103] = '37.5451403'\n",
    "lons[103] = '127.1362782'\n",
    "\n",
    "lats[105] = '37.5498247'\n",
    "lons[105] = '127.1451476'\n",
    "\n",
    "lats[108] = '37.6193705'\n",
    "lons[108] = '127.0448482'\n",
    "\n",
    "lats[112] = '37.5041037'\n",
    "lons[112] = '126.8806198'\n",
    "\n",
    "lats[127] = '37.5324456'\n",
    "lons[127] = '126.8680492'"
   ]
  },
  {
   "cell_type": "code",
   "execution_count": 43,
   "id": "cb07d474",
   "metadata": {},
   "outputs": [],
   "source": [
    "popo['lon'] = lons\n",
    "popo['lat'] = lats"
   ]
  },
  {
   "cell_type": "code",
   "execution_count": 46,
   "id": "998eac7b",
   "metadata": {},
   "outputs": [
    {
     "data": {
      "text/html": [
       "<div>\n",
       "<style scoped>\n",
       "    .dataframe tbody tr th:only-of-type {\n",
       "        vertical-align: middle;\n",
       "    }\n",
       "\n",
       "    .dataframe tbody tr th {\n",
       "        vertical-align: top;\n",
       "    }\n",
       "\n",
       "    .dataframe thead th {\n",
       "        text-align: right;\n",
       "    }\n",
       "</style>\n",
       "<table border=\"1\" class=\"dataframe\">\n",
       "  <thead>\n",
       "    <tr style=\"text-align: right;\">\n",
       "      <th></th>\n",
       "      <th>연번</th>\n",
       "      <th>지방청</th>\n",
       "      <th>경찰서</th>\n",
       "      <th>관서명</th>\n",
       "      <th>지역파출소</th>\n",
       "      <th>치안센터명</th>\n",
       "      <th>주소</th>\n",
       "      <th>lon</th>\n",
       "      <th>lat</th>\n",
       "    </tr>\n",
       "  </thead>\n",
       "  <tbody>\n",
       "    <tr>\n",
       "      <th>92</th>\n",
       "      <td>93</td>\n",
       "      <td>서울청</td>\n",
       "      <td>서울관악</td>\n",
       "      <td>신림</td>\n",
       "      <td>지구대</td>\n",
       "      <td>청룡2치안센터</td>\n",
       "      <td>서울 관악구 참숯1길 3</td>\n",
       "      <td>NOT_FOUND</td>\n",
       "      <td>NOT_FOUND</td>\n",
       "    </tr>\n",
       "  </tbody>\n",
       "</table>\n",
       "</div>"
      ],
      "text/plain": [
       "    연번  지방청   경찰서 관서명 지역파출소    치안센터명             주소        lon        lat\n",
       "92  93  서울청  서울관악  신림   지구대  청룡2치안센터  서울 관악구 참숯1길 3  NOT_FOUND  NOT_FOUND"
      ]
     },
     "execution_count": 46,
     "metadata": {},
     "output_type": "execute_result"
    }
   ],
   "source": [
    "popo.loc[popo['lon'] == 'NOT_FOUND']"
   ]
  },
  {
   "cell_type": "code",
   "execution_count": 47,
   "id": "220a3656",
   "metadata": {
    "scrolled": true
   },
   "outputs": [],
   "source": [
    "popo = popo.drop(popo.loc[popo['lon'] == 'NOT_FOUND'].index)"
   ]
  },
  {
   "cell_type": "code",
   "execution_count": 50,
   "id": "7367c774",
   "metadata": {},
   "outputs": [],
   "source": [
    "popo.to_csv('./Data/서울시_치안센터_지오코딩.csv', index=False)"
   ]
  },
  {
   "cell_type": "code",
   "execution_count": null,
   "id": "a7978d63",
   "metadata": {},
   "outputs": [],
   "source": []
  },
  {
   "cell_type": "code",
   "execution_count": null,
   "id": "8836e5a9",
   "metadata": {},
   "outputs": [],
   "source": []
  },
  {
   "cell_type": "code",
   "execution_count": null,
   "id": "9f962922",
   "metadata": {},
   "outputs": [],
   "source": []
  },
  {
   "cell_type": "code",
   "execution_count": null,
   "id": "816b41f7",
   "metadata": {},
   "outputs": [],
   "source": []
  },
  {
   "cell_type": "code",
   "execution_count": null,
   "id": "21fa9d40",
   "metadata": {},
   "outputs": [],
   "source": []
  },
  {
   "cell_type": "code",
   "execution_count": null,
   "id": "28d85e71",
   "metadata": {},
   "outputs": [],
   "source": []
  }
 ],
 "metadata": {
  "kernelspec": {
   "display_name": "Python 3",
   "language": "python",
   "name": "python3"
  },
  "language_info": {
   "codemirror_mode": {
    "name": "ipython",
    "version": 3
   },
   "file_extension": ".py",
   "mimetype": "text/x-python",
   "name": "python",
   "nbconvert_exporter": "python",
   "pygments_lexer": "ipython3",
   "version": "3.8.8"
  }
 },
 "nbformat": 4,
 "nbformat_minor": 5
}
