{
 "cells": [
  {
   "cell_type": "code",
   "execution_count": 1,
   "id": "63df860a",
   "metadata": {},
   "outputs": [],
   "source": [
    "import pandas as pd\n",
    "import geopandas as gpd"
   ]
  },
  {
   "cell_type": "markdown",
   "id": "56bc4592",
   "metadata": {},
   "source": [
    "# 지하철"
   ]
  },
  {
   "cell_type": "code",
   "execution_count": 2,
   "id": "2cbdd135",
   "metadata": {},
   "outputs": [],
   "source": [
    "root = pd.read_csv('../../국토부해커톤/지하철전체위경도.csv', encoding = 'cp949')"
   ]
  },
  {
   "cell_type": "code",
   "execution_count": 3,
   "id": "28644365",
   "metadata": {},
   "outputs": [
    {
     "data": {
      "text/html": [
       "<div>\n",
       "<style scoped>\n",
       "    .dataframe tbody tr th:only-of-type {\n",
       "        vertical-align: middle;\n",
       "    }\n",
       "\n",
       "    .dataframe tbody tr th {\n",
       "        vertical-align: top;\n",
       "    }\n",
       "\n",
       "    .dataframe thead th {\n",
       "        text-align: right;\n",
       "    }\n",
       "</style>\n",
       "<table border=\"1\" class=\"dataframe\">\n",
       "  <thead>\n",
       "    <tr style=\"text-align: right;\">\n",
       "      <th></th>\n",
       "      <th>역위도</th>\n",
       "      <th>역경도</th>\n",
       "    </tr>\n",
       "  </thead>\n",
       "  <tbody>\n",
       "    <tr>\n",
       "      <th>count</th>\n",
       "      <td>295.000000</td>\n",
       "      <td>295.000000</td>\n",
       "    </tr>\n",
       "    <tr>\n",
       "      <th>mean</th>\n",
       "      <td>37.547431</td>\n",
       "      <td>127.006093</td>\n",
       "    </tr>\n",
       "    <tr>\n",
       "      <th>std</th>\n",
       "      <td>0.059223</td>\n",
       "      <td>0.148038</td>\n",
       "    </tr>\n",
       "    <tr>\n",
       "      <th>min</th>\n",
       "      <td>36.963209</td>\n",
       "      <td>126.797482</td>\n",
       "    </tr>\n",
       "    <tr>\n",
       "      <th>25%</th>\n",
       "      <td>37.510342</td>\n",
       "      <td>126.934193</td>\n",
       "    </tr>\n",
       "    <tr>\n",
       "      <th>50%</th>\n",
       "      <td>37.547470</td>\n",
       "      <td>127.013537</td>\n",
       "    </tr>\n",
       "    <tr>\n",
       "      <th>75%</th>\n",
       "      <td>37.576135</td>\n",
       "      <td>127.062113</td>\n",
       "    </tr>\n",
       "    <tr>\n",
       "      <th>max</th>\n",
       "      <td>37.689417</td>\n",
       "      <td>129.091131</td>\n",
       "    </tr>\n",
       "  </tbody>\n",
       "</table>\n",
       "</div>"
      ],
      "text/plain": [
       "              역위도         역경도\n",
       "count  295.000000  295.000000\n",
       "mean    37.547431  127.006093\n",
       "std      0.059223    0.148038\n",
       "min     36.963209  126.797482\n",
       "25%     37.510342  126.934193\n",
       "50%     37.547470  127.013537\n",
       "75%     37.576135  127.062113\n",
       "max     37.689417  129.091131"
      ]
     },
     "execution_count": 3,
     "metadata": {},
     "output_type": "execute_result"
    }
   ],
   "source": [
    "root.describe()"
   ]
  },
  {
   "cell_type": "code",
   "execution_count": 4,
   "id": "febba43b",
   "metadata": {},
   "outputs": [],
   "source": [
    "ind = root.loc[root['역경도'] > 128].index #양원역"
   ]
  },
  {
   "cell_type": "code",
   "execution_count": 5,
   "id": "963b2346",
   "metadata": {},
   "outputs": [],
   "source": [
    "root.loc[ind, ['역위도']] = 37.6068632\n",
    "root.loc[ind, ['역경도']] = 127.1077551"
   ]
  },
  {
   "cell_type": "code",
   "execution_count": 6,
   "id": "809ee560",
   "metadata": {},
   "outputs": [],
   "source": [
    "subway_loc = gpd.GeoDataFrame(root, geometry = gpd.points_from_xy(root['역경도'], root['역위도']), crs = 'epsg:4326')"
   ]
  },
  {
   "cell_type": "code",
   "execution_count": 92,
   "id": "10b1111a",
   "metadata": {},
   "outputs": [],
   "source": [
    "subway_loc.to_csv('./Data/서울시_지하철역_전처리.csv', index = False)"
   ]
  },
  {
   "cell_type": "code",
   "execution_count": 7,
   "id": "0e353736",
   "metadata": {},
   "outputs": [
    {
     "data": {
      "image/png": "[encoded data removed]",
      "text/plain": [
       "<Figure size 432x288 with 1 Axes>"
      ]
     },
     "metadata": {
      "needs_background": "light"
     },
     "output_type": "display_data"
    }
   ],
   "source": [
    "subway_loc.plot();"
   ]
  },
  {
   "cell_type": "markdown",
   "id": "d900bafe",
   "metadata": {},
   "source": [
    "# 버스"
   ]
  },
  {
   "cell_type": "code",
   "execution_count": 37,
   "id": "ae21773b",
   "metadata": {},
   "outputs": [],
   "source": [
    "root_bus = pd.read_csv('./Data/서울시버스정류소좌표데이터(2021.01.14.).csv', encoding = 'euc-kr')"
   ]
  },
  {
   "cell_type": "code",
   "execution_count": 38,
   "id": "21bfdcf0",
   "metadata": {},
   "outputs": [
    {
     "data": {
      "text/html": [
       "<div>\n",
       "<style scoped>\n",
       "    .dataframe tbody tr th:only-of-type {\n",
       "        vertical-align: middle;\n",
       "    }\n",
       "\n",
       "    .dataframe tbody tr th {\n",
       "        vertical-align: top;\n",
       "    }\n",
       "\n",
       "    .dataframe thead th {\n",
       "        text-align: right;\n",
       "    }\n",
       "</style>\n",
       "<table border=\"1\" class=\"dataframe\">\n",
       "  <thead>\n",
       "    <tr style=\"text-align: right;\">\n",
       "      <th></th>\n",
       "      <th>표준ID</th>\n",
       "      <th>ARS-ID</th>\n",
       "      <th>정류소명</th>\n",
       "      <th>X좌표</th>\n",
       "      <th>Y좌표</th>\n",
       "    </tr>\n",
       "  </thead>\n",
       "  <tbody>\n",
       "    <tr>\n",
       "      <th>0</th>\n",
       "      <td>100000001</td>\n",
       "      <td>1001</td>\n",
       "      <td>종로2가사거리</td>\n",
       "      <td>126.987786</td>\n",
       "      <td>37.569764</td>\n",
       "    </tr>\n",
       "    <tr>\n",
       "      <th>1</th>\n",
       "      <td>100000002</td>\n",
       "      <td>1002</td>\n",
       "      <td>창경궁.서울대학교병원</td>\n",
       "      <td>126.996520</td>\n",
       "      <td>37.579179</td>\n",
       "    </tr>\n",
       "    <tr>\n",
       "      <th>2</th>\n",
       "      <td>100000003</td>\n",
       "      <td>1003</td>\n",
       "      <td>명륜3가.성대입구</td>\n",
       "      <td>126.998290</td>\n",
       "      <td>37.582709</td>\n",
       "    </tr>\n",
       "    <tr>\n",
       "      <th>3</th>\n",
       "      <td>100000004</td>\n",
       "      <td>1004</td>\n",
       "      <td>종로2가.삼일교</td>\n",
       "      <td>126.987507</td>\n",
       "      <td>37.568582</td>\n",
       "    </tr>\n",
       "    <tr>\n",
       "      <th>4</th>\n",
       "      <td>100000005</td>\n",
       "      <td>1005</td>\n",
       "      <td>혜화동로터리.여운형활동터</td>\n",
       "      <td>127.001694</td>\n",
       "      <td>37.586230</td>\n",
       "    </tr>\n",
       "  </tbody>\n",
       "</table>\n",
       "</div>"
      ],
      "text/plain": [
       "        표준ID  ARS-ID           정류소명         X좌표        Y좌표\n",
       "0  100000001    1001        종로2가사거리  126.987786  37.569764\n",
       "1  100000002    1002    창경궁.서울대학교병원  126.996520  37.579179\n",
       "2  100000003    1003      명륜3가.성대입구  126.998290  37.582709\n",
       "3  100000004    1004       종로2가.삼일교  126.987507  37.568582\n",
       "4  100000005    1005  혜화동로터리.여운형활동터  127.001694  37.586230"
      ]
     },
     "execution_count": 38,
     "metadata": {},
     "output_type": "execute_result"
    }
   ],
   "source": [
    "root_bus.head()"
   ]
  },
  {
   "cell_type": "code",
   "execution_count": 39,
   "id": "71950b6d",
   "metadata": {},
   "outputs": [
    {
     "data": {
      "text/html": [
       "<div>\n",
       "<style scoped>\n",
       "    .dataframe tbody tr th:only-of-type {\n",
       "        vertical-align: middle;\n",
       "    }\n",
       "\n",
       "    .dataframe tbody tr th {\n",
       "        vertical-align: top;\n",
       "    }\n",
       "\n",
       "    .dataframe thead th {\n",
       "        text-align: right;\n",
       "    }\n",
       "</style>\n",
       "<table border=\"1\" class=\"dataframe\">\n",
       "  <thead>\n",
       "    <tr style=\"text-align: right;\">\n",
       "      <th></th>\n",
       "      <th>표준ID</th>\n",
       "      <th>ARS-ID</th>\n",
       "      <th>X좌표</th>\n",
       "      <th>Y좌표</th>\n",
       "    </tr>\n",
       "  </thead>\n",
       "  <tbody>\n",
       "    <tr>\n",
       "      <th>count</th>\n",
       "      <td>1.092100e+04</td>\n",
       "      <td>10921.000000</td>\n",
       "      <td>10921.000000</td>\n",
       "      <td>10921.000000</td>\n",
       "    </tr>\n",
       "    <tr>\n",
       "      <th>mean</th>\n",
       "      <td>1.131697e+08</td>\n",
       "      <td>14260.396118</td>\n",
       "      <td>126.985616</td>\n",
       "      <td>37.550960</td>\n",
       "    </tr>\n",
       "    <tr>\n",
       "      <th>std</th>\n",
       "      <td>6.906108e+06</td>\n",
       "      <td>6916.186899</td>\n",
       "      <td>0.086083</td>\n",
       "      <td>0.055194</td>\n",
       "    </tr>\n",
       "    <tr>\n",
       "      <th>min</th>\n",
       "      <td>1.000000e+08</td>\n",
       "      <td>1001.000000</td>\n",
       "      <td>126.507000</td>\n",
       "      <td>37.430780</td>\n",
       "    </tr>\n",
       "    <tr>\n",
       "      <th>25%</th>\n",
       "      <td>1.079001e+08</td>\n",
       "      <td>8721.000000</td>\n",
       "      <td>126.916867</td>\n",
       "      <td>37.502671</td>\n",
       "    </tr>\n",
       "    <tr>\n",
       "      <th>50%</th>\n",
       "      <td>1.139000e+08</td>\n",
       "      <td>14510.000000</td>\n",
       "      <td>126.994626</td>\n",
       "      <td>37.550325</td>\n",
       "    </tr>\n",
       "    <tr>\n",
       "      <th>75%</th>\n",
       "      <td>1.199000e+08</td>\n",
       "      <td>20519.000000</td>\n",
       "      <td>127.050836</td>\n",
       "      <td>37.591408</td>\n",
       "    </tr>\n",
       "    <tr>\n",
       "      <th>max</th>\n",
       "      <td>1.249001e+08</td>\n",
       "      <td>25999.000000</td>\n",
       "      <td>127.181760</td>\n",
       "      <td>37.781594</td>\n",
       "    </tr>\n",
       "  </tbody>\n",
       "</table>\n",
       "</div>"
      ],
      "text/plain": [
       "               표준ID        ARS-ID           X좌표           Y좌표\n",
       "count  1.092100e+04  10921.000000  10921.000000  10921.000000\n",
       "mean   1.131697e+08  14260.396118    126.985616     37.550960\n",
       "std    6.906108e+06   6916.186899      0.086083      0.055194\n",
       "min    1.000000e+08   1001.000000    126.507000     37.430780\n",
       "25%    1.079001e+08   8721.000000    126.916867     37.502671\n",
       "50%    1.139000e+08  14510.000000    126.994626     37.550325\n",
       "75%    1.199000e+08  20519.000000    127.050836     37.591408\n",
       "max    1.249001e+08  25999.000000    127.181760     37.781594"
      ]
     },
     "execution_count": 39,
     "metadata": {},
     "output_type": "execute_result"
    }
   ],
   "source": [
    "root_bus.describe()"
   ]
  },
  {
   "cell_type": "code",
   "execution_count": 40,
   "id": "baa5d90a",
   "metadata": {},
   "outputs": [],
   "source": [
    "root_bus.loc[root_bus['Y좌표'] > 37.75, 'X좌표'] = 127.0468993\n",
    "root_bus.loc[root_bus['Y좌표'] > 37.75, 'Y좌표'] = 37.461506 #염곡마을"
   ]
  },
  {
   "cell_type": "code",
   "execution_count": 41,
   "id": "49b6d726",
   "metadata": {},
   "outputs": [],
   "source": [
    "root_bus = root_bus.drop([10910, 10911], axis = 0)#.loc[root_bus['정류소명'].str.contains('명일동국민은행')]\n",
    "#root_bus.loc[root_bus['정류소명'].str.contains('명일동국민은행')]"
   ]
  },
  {
   "cell_type": "code",
   "execution_count": 42,
   "id": "eaeac593",
   "metadata": {
    "scrolled": true
   },
   "outputs": [
    {
     "data": {
      "text/html": [
       "<div>\n",
       "<style scoped>\n",
       "    .dataframe tbody tr th:only-of-type {\n",
       "        vertical-align: middle;\n",
       "    }\n",
       "\n",
       "    .dataframe tbody tr th {\n",
       "        vertical-align: top;\n",
       "    }\n",
       "\n",
       "    .dataframe thead th {\n",
       "        text-align: right;\n",
       "    }\n",
       "</style>\n",
       "<table border=\"1\" class=\"dataframe\">\n",
       "  <thead>\n",
       "    <tr style=\"text-align: right;\">\n",
       "      <th></th>\n",
       "      <th>표준ID</th>\n",
       "      <th>ARS-ID</th>\n",
       "      <th>정류소명</th>\n",
       "      <th>X좌표</th>\n",
       "      <th>Y좌표</th>\n",
       "    </tr>\n",
       "  </thead>\n",
       "  <tbody>\n",
       "    <tr>\n",
       "      <th>9175</th>\n",
       "      <td>121000249</td>\n",
       "      <td>22325</td>\n",
       "      <td>염곡마을</td>\n",
       "      <td>127.048985</td>\n",
       "      <td>37.461666</td>\n",
       "    </tr>\n",
       "    <tr>\n",
       "      <th>9176</th>\n",
       "      <td>121000250</td>\n",
       "      <td>22326</td>\n",
       "      <td>염곡마을</td>\n",
       "      <td>127.049029</td>\n",
       "      <td>37.461811</td>\n",
       "    </tr>\n",
       "    <tr>\n",
       "      <th>9196</th>\n",
       "      <td>121000273</td>\n",
       "      <td>22350</td>\n",
       "      <td>염곡마을</td>\n",
       "      <td>127.046899</td>\n",
       "      <td>37.461506</td>\n",
       "    </tr>\n",
       "    <tr>\n",
       "      <th>9197</th>\n",
       "      <td>121000274</td>\n",
       "      <td>22351</td>\n",
       "      <td>염곡마을.내곡동주민센터</td>\n",
       "      <td>127.049173</td>\n",
       "      <td>37.461751</td>\n",
       "    </tr>\n",
       "  </tbody>\n",
       "</table>\n",
       "</div>"
      ],
      "text/plain": [
       "           표준ID  ARS-ID          정류소명         X좌표        Y좌표\n",
       "9175  121000249   22325          염곡마을  127.048985  37.461666\n",
       "9176  121000250   22326          염곡마을  127.049029  37.461811\n",
       "9196  121000273   22350          염곡마을  127.046899  37.461506\n",
       "9197  121000274   22351  염곡마을.내곡동주민센터  127.049173  37.461751"
      ]
     },
     "execution_count": 42,
     "metadata": {},
     "output_type": "execute_result"
    }
   ],
   "source": [
    "root_bus.loc[root_bus['정류소명'].str.contains('염곡마을')]"
   ]
  },
  {
   "cell_type": "code",
   "execution_count": 69,
   "id": "89cfd110",
   "metadata": {},
   "outputs": [
    {
     "data": {
      "text/html": [
       "<div>\n",
       "<style scoped>\n",
       "    .dataframe tbody tr th:only-of-type {\n",
       "        vertical-align: middle;\n",
       "    }\n",
       "\n",
       "    .dataframe tbody tr th {\n",
       "        vertical-align: top;\n",
       "    }\n",
       "\n",
       "    .dataframe thead th {\n",
       "        text-align: right;\n",
       "    }\n",
       "</style>\n",
       "<table border=\"1\" class=\"dataframe\">\n",
       "  <thead>\n",
       "    <tr style=\"text-align: right;\">\n",
       "      <th></th>\n",
       "      <th>표준ID</th>\n",
       "      <th>ARS-ID</th>\n",
       "      <th>정류소명</th>\n",
       "      <th>X좌표</th>\n",
       "      <th>Y좌표</th>\n",
       "    </tr>\n",
       "  </thead>\n",
       "  <tbody>\n",
       "    <tr>\n",
       "      <th>6560</th>\n",
       "      <td>115000607</td>\n",
       "      <td>16725</td>\n",
       "      <td>오쇠동꽃단지</td>\n",
       "      <td>126.797810</td>\n",
       "      <td>37.538266</td>\n",
       "    </tr>\n",
       "    <tr>\n",
       "      <th>6561</th>\n",
       "      <td>115000606</td>\n",
       "      <td>16726</td>\n",
       "      <td>오쇠동꽃단지</td>\n",
       "      <td>126.797515</td>\n",
       "      <td>37.538192</td>\n",
       "    </tr>\n",
       "  </tbody>\n",
       "</table>\n",
       "</div>"
      ],
      "text/plain": [
       "           표준ID  ARS-ID    정류소명         X좌표        Y좌표\n",
       "6560  115000607   16725  오쇠동꽃단지  126.797810  37.538266\n",
       "6561  115000606   16726  오쇠동꽃단지  126.797515  37.538192"
      ]
     },
     "execution_count": 69,
     "metadata": {},
     "output_type": "execute_result"
    }
   ],
   "source": [
    "root_bus.loc[(root_bus['X좌표'] < 126.81) & (root_bus['Y좌표']  < 37.55)]"
   ]
  },
  {
   "cell_type": "code",
   "execution_count": 70,
   "id": "d8e939e8",
   "metadata": {},
   "outputs": [],
   "source": [
    "bus_loc = gpd.GeoDataFrame(root_bus, geometry=gpd.points_from_xy(root_bus['X좌표'], root_bus['Y좌표']), crs = 'epsg:4326')"
   ]
  },
  {
   "cell_type": "code",
   "execution_count": 71,
   "id": "a079f5c4",
   "metadata": {},
   "outputs": [],
   "source": [
    "bus_loc.to_csv('./Data/서울시_버스정류소_전처리.csv', index = False)"
   ]
  },
  {
   "cell_type": "markdown",
   "id": "97c8abd6",
   "metadata": {},
   "source": [
    "# 따릉이"
   ]
  },
  {
   "cell_type": "code",
   "execution_count": 75,
   "id": "a5494916",
   "metadata": {},
   "outputs": [],
   "source": [
    "root_bike = pd.read_csv('./Data/공공자전거 대여소 정보(21.06월 기준).csv', encoding = 'cp949',\n",
    "                        skiprows = 4)"
   ]
  },
  {
   "cell_type": "code",
   "execution_count": 77,
   "id": "03c6aa90",
   "metadata": {},
   "outputs": [],
   "source": [
    "root_bike.columns = ['대여소번호', '대여소명', '자치구', '상세주소',\n",
    "                     '위도', '경도', '설치시기', 'LCD_거치대수', 'QR_거치대수', '운영방식']"
   ]
  },
  {
   "cell_type": "code",
   "execution_count": 81,
   "id": "f16df6a5",
   "metadata": {},
   "outputs": [],
   "source": [
    "root_bike = root_bike.fillna(0)"
   ]
  },
  {
   "cell_type": "code",
   "execution_count": 84,
   "id": "c3bdfac8",
   "metadata": {},
   "outputs": [],
   "source": [
    "root_bike['총 거치대수'] = root_bike['LCD_거치대수'] + root_bike['QR_거치대수']"
   ]
  },
  {
   "cell_type": "code",
   "execution_count": 87,
   "id": "74c36093",
   "metadata": {},
   "outputs": [],
   "source": [
    "root_bike = root_bike.drop(columns = ['LCD_거치대수', 'QR_거치대수'])"
   ]
  },
  {
   "cell_type": "code",
   "execution_count": 89,
   "id": "ed9f73e9",
   "metadata": {},
   "outputs": [
    {
     "data": {
      "text/html": [
       "<div>\n",
       "<style scoped>\n",
       "    .dataframe tbody tr th:only-of-type {\n",
       "        vertical-align: middle;\n",
       "    }\n",
       "\n",
       "    .dataframe tbody tr th {\n",
       "        vertical-align: top;\n",
       "    }\n",
       "\n",
       "    .dataframe thead th {\n",
       "        text-align: right;\n",
       "    }\n",
       "</style>\n",
       "<table border=\"1\" class=\"dataframe\">\n",
       "  <thead>\n",
       "    <tr style=\"text-align: right;\">\n",
       "      <th></th>\n",
       "      <th>대여소번호</th>\n",
       "      <th>위도</th>\n",
       "      <th>경도</th>\n",
       "      <th>총 거치대수</th>\n",
       "    </tr>\n",
       "  </thead>\n",
       "  <tbody>\n",
       "    <tr>\n",
       "      <th>count</th>\n",
       "      <td>2467.000000</td>\n",
       "      <td>2467.000000</td>\n",
       "      <td>2467.000000</td>\n",
       "      <td>2467.000000</td>\n",
       "    </tr>\n",
       "    <tr>\n",
       "      <th>mean</th>\n",
       "      <td>1965.064856</td>\n",
       "      <td>37.532988</td>\n",
       "      <td>126.940433</td>\n",
       "      <td>12.417106</td>\n",
       "    </tr>\n",
       "    <tr>\n",
       "      <th>std</th>\n",
       "      <td>1335.056455</td>\n",
       "      <td>0.757753</td>\n",
       "      <td>2.558402</td>\n",
       "      <td>4.744904</td>\n",
       "    </tr>\n",
       "    <tr>\n",
       "      <th>min</th>\n",
       "      <td>102.000000</td>\n",
       "      <td>0.000000</td>\n",
       "      <td>0.000000</td>\n",
       "      <td>4.000000</td>\n",
       "    </tr>\n",
       "    <tr>\n",
       "      <th>25%</th>\n",
       "      <td>845.500000</td>\n",
       "      <td>37.506330</td>\n",
       "      <td>126.916916</td>\n",
       "      <td>10.000000</td>\n",
       "    </tr>\n",
       "    <tr>\n",
       "      <th>50%</th>\n",
       "      <td>1713.000000</td>\n",
       "      <td>37.547070</td>\n",
       "      <td>127.003761</td>\n",
       "      <td>10.000000</td>\n",
       "    </tr>\n",
       "    <tr>\n",
       "      <th>75%</th>\n",
       "      <td>2744.500000</td>\n",
       "      <td>37.577787</td>\n",
       "      <td>127.063034</td>\n",
       "      <td>15.000000</td>\n",
       "    </tr>\n",
       "    <tr>\n",
       "      <th>max</th>\n",
       "      <td>4869.000000</td>\n",
       "      <td>37.691013</td>\n",
       "      <td>127.180641</td>\n",
       "      <td>40.000000</td>\n",
       "    </tr>\n",
       "  </tbody>\n",
       "</table>\n",
       "</div>"
      ],
      "text/plain": [
       "             대여소번호           위도           경도       총 거치대수\n",
       "count  2467.000000  2467.000000  2467.000000  2467.000000\n",
       "mean   1965.064856    37.532988   126.940433    12.417106\n",
       "std    1335.056455     0.757753     2.558402     4.744904\n",
       "min     102.000000     0.000000     0.000000     4.000000\n",
       "25%     845.500000    37.506330   126.916916    10.000000\n",
       "50%    1713.000000    37.547070   127.003761    10.000000\n",
       "75%    2744.500000    37.577787   127.063034    15.000000\n",
       "max    4869.000000    37.691013   127.180641    40.000000"
      ]
     },
     "execution_count": 89,
     "metadata": {},
     "output_type": "execute_result"
    }
   ],
   "source": [
    "root_bike.describe()"
   ]
  },
  {
   "cell_type": "code",
   "execution_count": 90,
   "id": "9352eb03",
   "metadata": {},
   "outputs": [],
   "source": [
    "root_bike.to_csv('./Data/서울시_따릉이대여소_전처리.csv', index = False)"
   ]
  },
  {
   "cell_type": "code",
   "execution_count": null,
   "id": "7796331a",
   "metadata": {},
   "outputs": [],
   "source": []
  }
 ],
 "metadata": {
  "kernelspec": {
   "display_name": "Python 3",
   "language": "python",
   "name": "python3"
  },
  "language_info": {
   "codemirror_mode": {
    "name": "ipython",
    "version": 3
   },
   "file_extension": ".py",
   "mimetype": "text/x-python",
   "name": "python",
   "nbconvert_exporter": "python",
   "pygments_lexer": "ipython3",
   "version": "3.8.8"
  }
 },
 "nbformat": 4,
 "nbformat_minor": 5
}
